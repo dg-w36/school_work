{
 "cells": [
  {
   "cell_type": "markdown",
   "metadata": {},
   "source": [
    "# chapter 1 误差处理绪论\n",
    "测量伴随着现代科学的发展，科学的发展离不开测量\n",
    "**测量**:将被测量与一个作为测量单位的标准量进行比较得到比值的过程。\n",
    "**完整的测量过程**：被测量、测量单位、测量方法、测量精度\n",
    "## 测试与测量\n",
    "**测试**:带有试验性质的测量\n",
    "测试的过程 借助专门的设备、仪器或测试系统,通过适当的实验方法与必需的信号分析及数据处理,由测得信号获取与研究对象有关信息量值的过程。\n",
    "### 测量的实现\n",
    "![测量图片](./data/test_system.png)\n",
    "### 测量的分类\n",
    "测得量是否为预测量（直接测量和间接测量）  \n",
    "零件上被测量参数的多少（单件测量和综合测量）  \n",
    "被测共建在测量时所处状态（静态测量和动态测量）（针对被测量，被测物体）  \n",
    "测量中测量因素是否发生变化（等精度测量和不等精度测量）（针对测量手段，测量人员）  "
   ]
  },
  {
   "cell_type": "markdown",
   "metadata": {},
   "source": [
    "# 误差的基本概念和误差分析\n",
    "## 误差的定义\n",
    "测量结果－测量真值：\n",
    "$$\n",
    "\\varepsilon = x - x_0\n",
    "$$\n",
    "值得注意的是，误差是存在正负的，并不是恒正。\n",
    "### 真值的获取\n",
    "对于测量来说，未知情况下，很难得到理论的测量真值，通常用统计方法计算得到真值的估计。其它情况下真值可以由理论真值取得，或者取计量学约定真值。\n",
    "### 几种实际使用时的误差\n",
    "按照误差的表示形式分：\n",
    "绝对误差：与上述误差定义一致，测量值－真值  \n",
    "相对误差：绝对误差与真值的比值（$\\varepsilon_r = \\frac{\\varepsilon}{x_0}$）可以用来反映测量精度  \n",
    "引用误差：使用测量仪器测量时，测量数值所带有的误差  \n",
    "按照误差的性质分：\n",
    "系统误差：系统误差可以看做由测量系统引入，测量量整体性偏离，有一定趋势  \n",
    "随机误差：误差存在随机的波动，展现出单峰性，抵偿性的特点  \n",
    "粗大误差：某一次测试数据误差显著大于其它误差，显示为实验  "
   ]
  },
  {
   "cell_type": "code",
   "execution_count": null,
   "metadata": {
    "collapsed": true
   },
   "outputs": [],
   "source": []
  }
 ],
 "metadata": {
  "kernelspec": {
   "display_name": "Python 2",
   "language": "python",
   "name": "python2"
  },
  "language_info": {
   "codemirror_mode": {
    "name": "ipython",
    "version": 2
   },
   "file_extension": ".py",
   "mimetype": "text/x-python",
   "name": "python",
   "nbconvert_exporter": "python",
   "pygments_lexer": "ipython2",
   "version": "2.7.13"
  }
 },
 "nbformat": 4,
 "nbformat_minor": 2
}
