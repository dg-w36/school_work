{
 "cells": [
  {
   "cell_type": "markdown",
   "metadata": {
    "collapsed": true
   },
   "source": [
    "# Chapter 1 图像处理基础知识"
   ]
  },
  {
   "cell_type": "markdown",
   "metadata": {},
   "source": [
    "## 数字图像处理的重要性\n",
    "1. 改善图像信息，放便人的理解（图像增强）\n",
    "2. 为存储、传输对图像进行处理（压缩技术）\n",
    "3. 对图像数据进行处理，方便机器理解（图像识别，机器视觉）\n",
    "图像处理技术可以使图像信息更好的保持和展示，是非常重要的技术。有广泛的应用\n",
    "\n",
    "## 数字图像定义\n",
    "图像定义为二维离散函数$f(x, y)$ ，其中$(x, y)$ 指图像空间中的坐标，而其函数值则是该点的强度值，又称为灰度。而数字图像则是使灰度值为有限的离散值，即数字化后的图像。在数字图像中，由每一个坐标确定的数值又称为**像素（pixel）** \n",
    "\n",
    "## 数字图像历史\n",
    "- 最早的应用使在报纸页，将照片数字化，实现了图片的远程传递"
   ]
  },
  {
   "cell_type": "code",
   "execution_count": null,
   "metadata": {
    "collapsed": true
   },
   "outputs": [],
   "source": []
  }
 ],
 "metadata": {
  "kernelspec": {
   "display_name": "Python 3",
   "language": "python",
   "name": "python3"
  },
  "language_info": {
   "codemirror_mode": {
    "name": "ipython",
    "version": 3
   },
   "file_extension": ".py",
   "mimetype": "text/x-python",
   "name": "python",
   "nbconvert_exporter": "python",
   "pygments_lexer": "ipython3",
   "version": "3.6.0"
  }
 },
 "nbformat": 4,
 "nbformat_minor": 2
}
