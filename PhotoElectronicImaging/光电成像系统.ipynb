{
 "cells": [
  {
   "cell_type": "markdown",
   "metadata": {},
   "source": [
    "# 光电成像系统\n",
    "## 辐射传输中的效应\n",
    "折射 refraction\n",
    "反射 reflaction\n",
    "散射 scattering\n",
    "吸收 absorption\n",
    "极化，偏振 polarization\n",
    "这些效应会改变光的辐射传输特性.\n",
    "## 太阳光谱结构，与大气成分\n",
    "大气由气体粒子和气溶胶粒子组成\n",
    "气体主要有 $N_2, O_2, H_2O, CO_2, O_3, CO, CH_4$, 分为**常定气体**，**可变成分**\n",
    "气溶胶是较大的颗粒组成\n",
    "\n",
    "**大气层的组成**\n",
    "对流层、平流层、 中间层、 热成层、 散逸层\n",
    "\n",
    "大气成分的特点：\n",
    "- 大气成分随地理位置、季节、时间都有较大变化\n",
    "- 局部大气成分只沿高度方向变化\n",
    "- 大气特征有密度、气压、温度、湿度沿高度方向分布\n",
    "- 通过定义标准大气和大气模式来推算大气特点和变化趋势，明确大气的特征\n",
    "\n",
    "## 大气辐射的作用方式\n",
    "### 大气散射 scattering\n",
    "* 大气分子和气溶胶粒子和电磁波作用，使电磁波偏离原传播方向\n",
    "* 散射本身不减小总能量，因为改变光路，则减小光路上的吸收能量\n",
    "* 大气散射会使得光路外的光发生变化，被吸收，会增大背景辐射强度\n",
    "\n",
    "天空为什么是蓝色——瑞利散射，一种显著的大气散射，散射与波长成正比，对短波辐射显著，是一种选择性散射\n",
    "\n",
    "米氏散射，没有选择性，气体颗粒，气溶胶产生的散射——雾霾天的白色天空\n",
    "\n",
    "### 大气吸收 absorption\n",
    "* 大气吸收将辐射能量转化为大气分子运动——大气吸收使输入电磁波能量下降\n",
    "能量转化形式：电离（臭氧层，吸收紫外光UV ），分子震动动能（短波红外波段$0.7\\mu m$），气体转动 \n",
    "**大气成分会对大气有不同的吸收** 不同气体分子有特殊的吸收效应\n",
    "\n",
    "### 大气透过率 $\\tau$\n",
    "气体分子和气溶胶会产生对电磁辐射的吸收和散射，因此而引起的辐射能量衰减，是消光(Extinction)，可以用大气透射率描述：\n",
    "$$d\\Phi(\\lambda,s) = -K(\\lambda,s)\\Phi(\\lambda,s)\\rho(s)ds$$\n",
    "**bouggner** 定律——描述光学介质：\n",
    "$$\\Phi(\\lambda,s) = \\Phi(\\lambda,0)exp[-l(\\lambda)]$$ 其中有$l(\\lambda) = k(\\lambda)\\rho s$为光学厚度\n",
    "\n",
    "**透射率** 定义为：$\\tau(\\lambda) = \\frac{\\Phi(\\lambda,s)}{\\Phi(\\lambda,0)} = exp[-l(\\lambda)]$\n",
    "透过率计算时，可以分为各种成分分别来计算再由乘积作为结论。"
   ]
  },
  {
   "cell_type": "code",
   "execution_count": null,
   "metadata": {
    "collapsed": true
   },
   "outputs": [],
   "source": []
  },
  {
   "cell_type": "code",
   "execution_count": null,
   "metadata": {
    "collapsed": true
   },
   "outputs": [],
   "source": []
  }
 ],
 "metadata": {
  "kernelspec": {
   "display_name": "Python 3",
   "language": "python",
   "name": "python3"
  },
  "language_info": {
   "codemirror_mode": {
    "name": "ipython",
    "version": 3
   },
   "file_extension": ".py",
   "mimetype": "text/x-python",
   "name": "python",
   "nbconvert_exporter": "python",
   "pygments_lexer": "ipython3",
   "version": "3.6.0"
  }
 },
 "nbformat": 4,
 "nbformat_minor": 2
}
